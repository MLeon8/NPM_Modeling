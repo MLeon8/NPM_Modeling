{
 "cells": [
  {
   "cell_type": "code",
   "execution_count": 7,
   "id": "6f4d844b",
   "metadata": {},
   "outputs": [
    {
     "name": "stdout",
     "output_type": "stream",
     "text": [
      "No se encontraron archivos de resultados\n"
     ]
    }
   ],
   "source": [
    "# Ajusta el path para importar desde src si ejecutas desde un notebook\n",
    "import sys\n",
    "# Añade el directorio raíz del proyecto (dos niveles arriba del notebook)\n",
    "sys.path.append('/home/mleon/Escritorio/ising_metastasis')\n",
    "from src.visualization import interactive_results_viewer\n",
    "interactive_results_viewer('results/simulations')"
   ]
  }
 ],
 "metadata": {
  "kernelspec": {
   "display_name": ".venv",
   "language": "python",
   "name": "python3"
  },
  "language_info": {
   "codemirror_mode": {
    "name": "ipython",
    "version": 3
   },
   "file_extension": ".py",
   "mimetype": "text/x-python",
   "name": "python",
   "nbconvert_exporter": "python",
   "pygments_lexer": "ipython3",
   "version": "3.10.12"
  }
 },
 "nbformat": 4,
 "nbformat_minor": 5
}
