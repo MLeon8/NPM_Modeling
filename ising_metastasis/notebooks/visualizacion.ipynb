from visualization import interactive_explorer
from utils import load_results

results = load_results()[0]  # Cargar primera simulación
interactive_explorer(results)


#simulación paralela

from concurrent.futures import ProcessPoolExecutor
from utils import generate_parameter_sweep

base_params = {...}  # Parámetros base
variations = {'J': [0.5, 0.8, 1.0], 'beta': [0.3, 0.5]}

param_sets = generate_parameter_sweep(base_params, variations)

with ProcessPoolExecutor() as executor:
    results = list(executor.map(run_simulation, param_sets))